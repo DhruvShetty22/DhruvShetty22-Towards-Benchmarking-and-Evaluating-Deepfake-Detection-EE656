{
 "cells": [
  {
   "cell_type": "code",
   "execution_count": 1,
   "id": "769bb125-ab0d-4553-a695-f7970f7d499a",
   "metadata": {},
   "outputs": [
    {
     "name": "stdout",
     "output_type": "stream",
     "text": [
      "HELLO GUYJS\n"
     ]
    }
   ],
   "source": [
    "print(\"HELLO GUYJS\")"
   ]
  }
 ],
 "metadata": {
  "kernelspec": {
   "display_name": "Python 3 (ipykernel)",
   "language": "python",
   "name": "python3"
  },
  "language_info": {
   "codemirror_mode": {
    "name": "ipython",
    "version": 3
   },
   "file_extension": ".py",
   "mimetype": "text/x-python",
   "name": "python",
   "nbconvert_exporter": "python",
   "pygments_lexer": "ipython3",
   "version": "3.12.2"
  }
 },
 "nbformat": 4,
 "nbformat_minor": 5
}
